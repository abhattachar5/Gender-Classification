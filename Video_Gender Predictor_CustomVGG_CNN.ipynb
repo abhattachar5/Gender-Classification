{
 "cells": [
  {
   "cell_type": "code",
   "execution_count": null,
   "metadata": {},
   "outputs": [],
   "source": [
    "## This code detects faces in a video stream using MYCNN and Predicts the Gender using a Custom VGG CNN model##\n",
    "\n",
    "import numpy as np\n",
    "import cv2 \n",
    "import matplotlib.pyplot as plt\n",
    "from matplotlib.patches import Rectangle\n",
    "%matplotlib inline\n",
    "from mtcnn import MTCNN\n",
    "from keras.preprocessing import image\n",
    "from keras.models import load_model\n",
    "\n",
    "detector = MTCNN()\n",
    "\n",
    "#This command is used to connect to the default camera source - webcam\n",
    "cap = cv2.VideoCapture(0) \n",
    "\n",
    "# For Each Frame, detect the face \n",
    "while True: \n",
    "    \n",
    "    ret, frame = cap.read(0) \n",
    "     \n",
    "    faces = detector.detect_faces(frame)\n",
    "    \n",
    "    # For Each detected face, Isolate it as a Region of Interest (ROI) and resize it to 96x96, convert to RGB, Normalize it and add an additional dimension\n",
    "    for i in faces:\n",
    "        bounding_box = faces[0]['box']\n",
    "        x,y,w,h = [bounding_box[i] for i in(0,1,2,3)]\n",
    "        roi = frame[y:y+h,x:x+w]\n",
    "        roi_processed = cv2.resize(roi,(128,128))\n",
    "        roi_processed = cv2.cvtColor(roi_processed,cv2.COLOR_BGR2RGB)\n",
    "        roi_processed = roi_processed/255\n",
    "        roi_processed = np.expand_dims(roi_processed, axis=0)\n",
    "        \n",
    "        #Run this processed ROI into the predictor and use the predicted probability to classify face into Male and Female and store it as Gender  \n",
    "        model = load_model('C:\\\\...\\\\Gender_Classifier.h5')\n",
    "        \n",
    "        #predicted_gender = model.predict_classes(roi_predict)\n",
    "        predicted_gender = model.predict(roi_processed)\n",
    "        label = \"MALE\" if predicted_gender > 0.5 else \"FEMALE\"\n",
    "        gender=label\n",
    "        \n",
    "        # Mark each detected face with a rectange and print the Gender on it\n",
    "        cv2.rectangle(frame,(x-10,y-10),(x+w+10,y+h+10),(0,255,0),2)\n",
    "        cv2.putText(frame,gender,(x-10,y-15),cv2.FONT_HERSHEY_COMPLEX,0.5,(0,0,255),1)\n",
    "        cv2.imshow('Gender Predictor', frame) \n",
    " \n",
    "    c = cv2.waitKey(1) \n",
    "    if c == 27: \n",
    "        break \n",
    "        \n",
    "cap.release() \n",
    "cv2.destroyAllWindows()"
   ]
  },
  {
   "cell_type": "code",
   "execution_count": null,
   "metadata": {},
   "outputs": [],
   "source": []
  }
 ],
 "metadata": {
  "kernelspec": {
   "display_name": "Python 3",
   "language": "python",
   "name": "python3"
  },
  "language_info": {
   "codemirror_mode": {
    "name": "ipython",
    "version": 3
   },
   "file_extension": ".py",
   "mimetype": "text/x-python",
   "name": "python",
   "nbconvert_exporter": "python",
   "pygments_lexer": "ipython3",
   "version": "3.7.4"
  }
 },
 "nbformat": 4,
 "nbformat_minor": 2
}
